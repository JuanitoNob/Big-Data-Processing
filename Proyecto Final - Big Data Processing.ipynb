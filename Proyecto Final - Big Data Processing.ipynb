{
 "cells": [
  {
   "cell_type": "code",
   "execution_count": 1,
   "id": "b4ec0f77",
   "metadata": {},
   "outputs": [],
   "source": [
    "# Iallnicializamos el proyecto"
   ]
  },
  {
   "cell_type": "code",
   "execution_count": 2,
   "id": "61f34a2d",
   "metadata": {},
   "outputs": [],
   "source": [
    "import findspark\n",
    "findspark.init()\n",
    "\n",
    "import pandas as pd\n",
    "import pyspark as ps"
   ]
  },
  {
   "cell_type": "code",
   "execution_count": 3,
   "id": "07f2ce7e",
   "metadata": {},
   "outputs": [],
   "source": [
    "# Importamos las librerias con las que trabajaremos"
   ]
  },
  {
   "cell_type": "code",
   "execution_count": 4,
   "id": "cbf52086",
   "metadata": {},
   "outputs": [],
   "source": [
    "from pyspark.sql.functions import *\n",
    "from pyspark.sql.window import Window\n",
    "import seaborn as sns\n",
    "from pyspark.sql.types import *"
   ]
  },
  {
   "cell_type": "code",
   "execution_count": 5,
   "id": "59d06bf5",
   "metadata": {},
   "outputs": [],
   "source": [
    "# Iniciamos la sesion en Spark"
   ]
  },
  {
   "cell_type": "code",
   "execution_count": 6,
   "id": "e802ddec",
   "metadata": {},
   "outputs": [],
   "source": [
    "from pyspark.sql import SparkSession\n",
    "\n",
    "spark = SparkSession.builder\\\n",
    "        .master(\"local[*]\")\\\n",
    "        .appName('PySpark_Proyecto_Final')\\\n",
    "        .getOrCreate()"
   ]
  },
  {
   "cell_type": "code",
   "execution_count": 7,
   "id": "917cdfe0",
   "metadata": {},
   "outputs": [],
   "source": [
    "# Cargamos el archivo y vemos su schema"
   ]
  },
  {
   "cell_type": "code",
   "execution_count": 8,
   "id": "ccb10609",
   "metadata": {},
   "outputs": [
    {
     "name": "stdout",
     "output_type": "stream",
     "text": [
      "root\n",
      " |-- Country name: string (nullable = true)\n",
      " |-- Regional indicator: string (nullable = true)\n",
      " |-- Ladder score: string (nullable = true)\n",
      " |-- Standard error of ladder score: string (nullable = true)\n",
      " |-- upperwhisker: string (nullable = true)\n",
      " |-- lowerwhisker: string (nullable = true)\n",
      " |-- Logged GDP per capita: string (nullable = true)\n",
      " |-- Social support: string (nullable = true)\n",
      " |-- Healthy life expectancy: string (nullable = true)\n",
      " |-- Freedom to make life choices: string (nullable = true)\n",
      " |-- Generosity: string (nullable = true)\n",
      " |-- Perceptions of corruption: string (nullable = true)\n",
      " |-- Ladder score in Dystopia: string (nullable = true)\n",
      " |-- Explained by: Log GDP per capita: string (nullable = true)\n",
      " |-- Explained by: Social support: string (nullable = true)\n",
      " |-- Explained by: Healthy life expectancy: string (nullable = true)\n",
      " |-- Explained by: Freedom to make life choices: string (nullable = true)\n",
      " |-- Explained by: Generosity: string (nullable = true)\n",
      " |-- Explained by: Perceptions of corruption: string (nullable = true)\n",
      " |-- Dystopia + residual: string (nullable = true)\n",
      "\n"
     ]
    }
   ],
   "source": [
    "base_data = spark.read.csv(\n",
    "    'C:/Users/juanc/Bootcamp - KeepCoding/7 - Big Data Processing/Proyecto Final/world-happiness-report-2021.csv',\n",
    "    sep = ',',\n",
    "    header = True,\n",
    "    )\n",
    "\n",
    "base_data.printSchema()"
   ]
  },
  {
   "cell_type": "code",
   "execution_count": 9,
   "id": "7b1fb559",
   "metadata": {},
   "outputs": [],
   "source": [
    "# Cambiamos la estrucutura de los datos"
   ]
  },
  {
   "cell_type": "code",
   "execution_count": 10,
   "id": "365ccf64",
   "metadata": {},
   "outputs": [],
   "source": [
    "data_schema = [\n",
    "               StructField('Country name', StringType(), True),\n",
    "               StructField('Regional indicator', StringType(), True),\n",
    "               StructField('Ladder score', DoubleType(), True),\n",
    "               StructField('Standard error of ladder score', DoubleType(), True),\n",
    "               StructField('upperwhisker', DoubleType(), True),\n",
    "               StructField('lowerwhisker', DoubleType(), True),\n",
    "               StructField('Logged GDP per capita', DoubleType(), True),\n",
    "               StructField('Social support', DoubleType(), True),\n",
    "               StructField('Healthy life expectancy', DoubleType(), True),\n",
    "               StructField('Freedom to make life choices', DoubleType(), True),\n",
    "               StructField('Generosity', DoubleType(), True),\n",
    "               StructField('Perceptions of corruption', DoubleType(), True),\n",
    "               StructField('Ladder score in Dystopia', DoubleType(), True),\n",
    "               StructField('Explained by: Log GDP per capita', DoubleType(), True),\n",
    "               StructField('Explained by: Social support', DoubleType(), True),\n",
    "               StructField('Explained by: Healthy life expectancy', DoubleType(), True),\n",
    "               StructField('Explained by: Freedom to make life choices', DoubleType(), True),\n",
    "               StructField('Explained by: Generosity', DoubleType(), True),\n",
    "               StructField('Explained by: Perceptions of corruption', DoubleType(), True),\n",
    "               StructField('Dystopia + residual', DoubleType(), True),\n",
    "            ]\n",
    "\n",
    "final_struc = StructType(fields=data_schema)"
   ]
  },
  {
   "cell_type": "code",
   "execution_count": 11,
   "id": "9e51b6f4",
   "metadata": {},
   "outputs": [],
   "source": [
    "data21 = spark.read.csv(\n",
    "    'C:/Users/juanc/Bootcamp - KeepCoding/7 - Big Data Processing/Proyecto Final/world-happiness-report-2021.csv',\n",
    "    sep = ',',\n",
    "    header = True,\n",
    "    schema = final_struc\n",
    "    )"
   ]
  },
  {
   "cell_type": "code",
   "execution_count": 12,
   "id": "3e875bfc",
   "metadata": {},
   "outputs": [],
   "source": [
    "# Vemos como ha quedado la estructura modificada"
   ]
  },
  {
   "cell_type": "code",
   "execution_count": 13,
   "id": "0c143236",
   "metadata": {},
   "outputs": [
    {
     "name": "stdout",
     "output_type": "stream",
     "text": [
      "root\n",
      " |-- Country name: string (nullable = true)\n",
      " |-- Regional indicator: string (nullable = true)\n",
      " |-- Ladder score: double (nullable = true)\n",
      " |-- Standard error of ladder score: double (nullable = true)\n",
      " |-- upperwhisker: double (nullable = true)\n",
      " |-- lowerwhisker: double (nullable = true)\n",
      " |-- Logged GDP per capita: double (nullable = true)\n",
      " |-- Social support: double (nullable = true)\n",
      " |-- Healthy life expectancy: double (nullable = true)\n",
      " |-- Freedom to make life choices: double (nullable = true)\n",
      " |-- Generosity: double (nullable = true)\n",
      " |-- Perceptions of corruption: double (nullable = true)\n",
      " |-- Ladder score in Dystopia: double (nullable = true)\n",
      " |-- Explained by: Log GDP per capita: double (nullable = true)\n",
      " |-- Explained by: Social support: double (nullable = true)\n",
      " |-- Explained by: Healthy life expectancy: double (nullable = true)\n",
      " |-- Explained by: Freedom to make life choices: double (nullable = true)\n",
      " |-- Explained by: Generosity: double (nullable = true)\n",
      " |-- Explained by: Perceptions of corruption: double (nullable = true)\n",
      " |-- Dystopia + residual: double (nullable = true)\n",
      "\n"
     ]
    }
   ],
   "source": [
    "data21.printSchema()"
   ]
  },
  {
   "cell_type": "code",
   "execution_count": 14,
   "id": "6cf949f3",
   "metadata": {},
   "outputs": [],
   "source": [
    "# Cargamos el segundo archivo y vemos su esquema"
   ]
  },
  {
   "cell_type": "code",
   "execution_count": 15,
   "id": "82e4884a",
   "metadata": {},
   "outputs": [
    {
     "name": "stdout",
     "output_type": "stream",
     "text": [
      "root\n",
      " |-- Country name: string (nullable = true)\n",
      " |-- year: string (nullable = true)\n",
      " |-- Life Ladder: string (nullable = true)\n",
      " |-- Log GDP per capita: string (nullable = true)\n",
      " |-- Social support: string (nullable = true)\n",
      " |-- Healthy life expectancy at birth: string (nullable = true)\n",
      " |-- Freedom to make life choices: string (nullable = true)\n",
      " |-- Generosity: string (nullable = true)\n",
      " |-- Perceptions of corruption: string (nullable = true)\n",
      " |-- Positive affect: string (nullable = true)\n",
      " |-- Negative affect: string (nullable = true)\n",
      "\n"
     ]
    }
   ],
   "source": [
    "base_data2 = spark.read.csv(\n",
    "    'C:/Users/juanc/Bootcamp - KeepCoding/7 - Big Data Processing/Proyecto Final/world-happiness-report.csv',\n",
    "    sep = ',',\n",
    "    header = True,\n",
    "    )\n",
    "\n",
    "base_data2.printSchema()"
   ]
  },
  {
   "cell_type": "code",
   "execution_count": 16,
   "id": "03f1e712",
   "metadata": {},
   "outputs": [],
   "source": [
    "# Cambiamos la estrucutura de los datos"
   ]
  },
  {
   "cell_type": "code",
   "execution_count": 17,
   "id": "9cf09be8",
   "metadata": {},
   "outputs": [],
   "source": [
    "data_schema2 = [\n",
    "               StructField('Country name', StringType(), True),\n",
    "               StructField('year', IntegerType(), True),\n",
    "               StructField('Life Ladder', DoubleType(), True),\n",
    "               StructField('Log GDP per capita', DoubleType(), True),\n",
    "               StructField('Social support', DoubleType(), True),\n",
    "               StructField('Healthy life expectancy at birth', DoubleType(), True),\n",
    "               StructField('Freedom to make life choices', DoubleType(), True),\n",
    "               StructField('Generosity', DoubleType(), True),\n",
    "               StructField('Perceptions of corruption', DoubleType(), True),\n",
    "               StructField('Positive affect', DoubleType(), True),\n",
    "               StructField('Negative affect', DoubleType(), True),\n",
    "           ]\n",
    "\n",
    "final_struc2 = StructType(fields=data_schema2)"
   ]
  },
  {
   "cell_type": "code",
   "execution_count": 18,
   "id": "4236e6d7",
   "metadata": {},
   "outputs": [],
   "source": [
    "data = spark.read.csv(\n",
    "    'C:/Users/juanc/Bootcamp - KeepCoding/7 - Big Data Processing/Proyecto Final/world-happiness-report.csv',\n",
    "    sep = ',',\n",
    "    header = True,\n",
    "    schema = final_struc2\n",
    "    )"
   ]
  },
  {
   "cell_type": "code",
   "execution_count": 19,
   "id": "5cc3686a",
   "metadata": {},
   "outputs": [],
   "source": [
    "# Vemos como ha quedado la estructura modificada"
   ]
  },
  {
   "cell_type": "code",
   "execution_count": 20,
   "id": "73b660e5",
   "metadata": {},
   "outputs": [
    {
     "name": "stdout",
     "output_type": "stream",
     "text": [
      "root\n",
      " |-- Country name: string (nullable = true)\n",
      " |-- year: integer (nullable = true)\n",
      " |-- Life Ladder: double (nullable = true)\n",
      " |-- Log GDP per capita: double (nullable = true)\n",
      " |-- Social support: double (nullable = true)\n",
      " |-- Healthy life expectancy at birth: double (nullable = true)\n",
      " |-- Freedom to make life choices: double (nullable = true)\n",
      " |-- Generosity: double (nullable = true)\n",
      " |-- Perceptions of corruption: double (nullable = true)\n",
      " |-- Positive affect: double (nullable = true)\n",
      " |-- Negative affect: double (nullable = true)\n",
      "\n"
     ]
    }
   ],
   "source": [
    "data.printSchema()"
   ]
  },
  {
   "cell_type": "code",
   "execution_count": 21,
   "id": "56fd33fa",
   "metadata": {},
   "outputs": [],
   "source": [
    "# COMENZAMOS A RESPONDER LAS PREGUNTAS."
   ]
  },
  {
   "cell_type": "code",
   "execution_count": 22,
   "id": "e3399ca0",
   "metadata": {},
   "outputs": [],
   "source": [
    "# 1. ¿Cuál es el país más “feliz” del 2021 según la data?, considerar que la columna “Ladder score” mayor número más feliz es el país"
   ]
  },
  {
   "cell_type": "code",
   "execution_count": 23,
   "id": "fb924a87",
   "metadata": {},
   "outputs": [
    {
     "name": "stdout",
     "output_type": "stream",
     "text": [
      "+------------+-------------------+\n",
      "|Country name|Indice de felicidad|\n",
      "+------------+-------------------+\n",
      "|     Finland|              7.842|\n",
      "+------------+-------------------+\n",
      "\n"
     ]
    }
   ],
   "source": [
    "# Seleccionamos el valor maximo de Ladder y le cambiamos el nombre a la columna\n",
    "p_feliz = data21.select(max(col(\"Ladder score\")).alias(\"Indice de felicidad\"))\n",
    "\n",
    "# Hacemos un join por el Ladder \n",
    "resultado = data21.join(p_feliz, p_feliz[\"Indice de felicidad\"] == data21[\"Ladder score\"], \"inner\")\n",
    "\n",
    "# Vemos el resultado\n",
    "resultado.select(\"Country name\", \"Indice de felicidad\").show()"
   ]
  },
  {
   "cell_type": "code",
   "execution_count": 24,
   "id": "bb76faf8",
   "metadata": {},
   "outputs": [],
   "source": [
    "# 2. ¿Cuál es el país más “feliz” del 2021 por continente según la data?"
   ]
  },
  {
   "cell_type": "code",
   "execution_count": 25,
   "id": "c1a773b6",
   "metadata": {},
   "outputs": [],
   "source": [
    "# Creo una funcion para agrupar las diferentes zonas en el Continente correspondiente"
   ]
  },
  {
   "cell_type": "code",
   "execution_count": 26,
   "id": "ab08c42a",
   "metadata": {},
   "outputs": [],
   "source": [
    "def detContinene(zona):\n",
    "    diccionario = {\n",
    "        \"Western Europe\": \"Europa\",\n",
    "        \"Central and Eastern Europe\": \"Europa\",\n",
    "        \"North America and ANZ\": \"America\",\n",
    "        \"Latin America and Caribbean\": \"America\",\n",
    "        \"Middle East and North Africa\": \"Africa\",\n",
    "        \"Sub-Saharan Africa\": \"Africa\",\n",
    "        \"East Asia\": \"Asia\",\n",
    "        \"South Asia\": \"Asia\",\n",
    "        \"Southeast Asia\": \"Asia\",\n",
    "        \"Commonwealth of Independent States\": \"Estados independientes\"      \n",
    "    }\n",
    "\n",
    "    return diccionario.get(zona, \"Desconocido\")"
   ]
  },
  {
   "cell_type": "code",
   "execution_count": 27,
   "id": "932cb219",
   "metadata": {},
   "outputs": [],
   "source": [
    "# Registro la funcion como UDF"
   ]
  },
  {
   "cell_type": "code",
   "execution_count": 28,
   "id": "48eae257",
   "metadata": {},
   "outputs": [],
   "source": [
    "grupoContinente = udf(detContinene, StringType())"
   ]
  },
  {
   "cell_type": "code",
   "execution_count": 29,
   "id": "4c7395fd",
   "metadata": {},
   "outputs": [],
   "source": [
    "# Aplico la UDF registrada para crear una nueva tabla"
   ]
  },
  {
   "cell_type": "code",
   "execution_count": 30,
   "id": "e6ec5504",
   "metadata": {},
   "outputs": [],
   "source": [
    "tablaContinente = data21.withColumn(\"Continente\", grupoContinente(\"Regional indicator\"))"
   ]
  },
  {
   "cell_type": "code",
   "execution_count": 31,
   "id": "497b006a",
   "metadata": {},
   "outputs": [
    {
     "name": "stdout",
     "output_type": "stream",
     "text": [
      "+--------------------+------------+--------------------+\n",
      "|        Country name|Ladder Score|          Continente|\n",
      "+--------------------+------------+--------------------+\n",
      "|             Finland|       7.842|              Europa|\n",
      "|         New Zealand|       7.277|             America|\n",
      "|              Israel|       7.157|              Africa|\n",
      "|Taiwan Province o...|       6.584|                Asia|\n",
      "|          Uzbekistan|       6.179|Estados independi...|\n",
      "+--------------------+------------+--------------------+\n",
      "\n"
     ]
    }
   ],
   "source": [
    "# Proceso la tablaContinente\n",
    "paisFeliz = tablaContinente.groupBy(\"Continente\").agg(max(\"Ladder Score\").alias(\"Pais mas feliz\"))\n",
    "\n",
    "# Cambio el nombre ya que sino me sale Continente ambiguo\n",
    "paisFeliz = paisFeliz.withColumnRenamed(\"Continente\", \"ladScore\")\n",
    "\n",
    "# Hago un join entre las dos tablas\n",
    "resultado = tablaContinente.join(paisFeliz, tablaContinente[\"Ladder Score\"] == paisFeliz[\"Pais mas feliz\"], \"inner\")\n",
    "\n",
    "# Muestro el resultado\n",
    "resultado.select(\"Country name\", \"Ladder Score\", \"Continente\").show()"
   ]
  },
  {
   "cell_type": "code",
   "execution_count": 32,
   "id": "ccb126f1",
   "metadata": {},
   "outputs": [],
   "source": [
    "# 3. ¿Cuál es el país que más veces ocupó el primer lugar en todos los años?"
   ]
  },
  {
   "cell_type": "code",
   "execution_count": 33,
   "id": "20055b0b",
   "metadata": {},
   "outputs": [],
   "source": [
    "# Agrego la columna year en 2021\n",
    "df21 = data21.withColumn(\"year\", lit(2021))\n",
    "df21 = df21.withColumnRenamed(\"Ladder Score\", \"Life Ladder\")"
   ]
  },
  {
   "cell_type": "code",
   "execution_count": 34,
   "id": "715ba2b3",
   "metadata": {},
   "outputs": [
    {
     "name": "stdout",
     "output_type": "stream",
     "text": [
      "+------------+-----+\n",
      "|Country name|Count|\n",
      "+------------+-----+\n",
      "|     Finland|    7|\n",
      "|     Denmark|    7|\n",
      "|      Norway|    1|\n",
      "| Switzerland|    1|\n",
      "|      Canada|    1|\n",
      "+------------+-----+\n",
      "\n"
     ]
    }
   ],
   "source": [
    "# Uno los dos DataFrames\n",
    "dfUnionFeliz = data.select(\"Country name\", \"year\", \"Life Ladder\").union(df21.select(\"Country name\", \"year\", \"Life Ladder\"))\n",
    "\n",
    "# Defino una ventana sobre la cual se calculará el rango por año \n",
    "windowSpec = Window.partitionBy(\"year\").orderBy(desc(\"Life Ladder\"))\n",
    "\n",
    "# Calculo el rango para cada país en cada año\n",
    "ranking = dfUnionFeliz.withColumn(\"Ranking\", rank().over(windowSpec))\n",
    "\n",
    "# Filtro las filas donde el rango es 1 (primer lugar) para cada año\n",
    "primerPuesto = ranking.filter(\"Ranking == 1\")\n",
    "\n",
    "# Cuento cuántas veces cada País ocupó el primer lugar\n",
    "contar = primerPuesto.groupBy(\"Country name\").agg(count(\"Country name\").alias(\"Count\"))\n",
    "\n",
    "# Ordeno la tabla por la columna \"Count\"\n",
    "ordenacion = contar.orderBy(desc(\"Count\"))\n",
    "\n",
    "# Muestro el resultado\n",
    "ordenacion.show()\n"
   ]
  },
  {
   "cell_type": "code",
   "execution_count": 35,
   "id": "e9f1551b",
   "metadata": {},
   "outputs": [],
   "source": [
    "# 4. ¿Qué puesto de Felicidad tiene el país con mayor GDP del 2020"
   ]
  },
  {
   "cell_type": "code",
   "execution_count": 36,
   "id": "a16a5972",
   "metadata": {},
   "outputs": [],
   "source": [
    "# Defino una ventana sobre la cual se calculará el Ranking\n",
    "windowSpec  = Window.partitionBy(\"year\").orderBy(desc(\"Life Ladder\"))"
   ]
  },
  {
   "cell_type": "code",
   "execution_count": 37,
   "id": "b4ab514a",
   "metadata": {},
   "outputs": [
    {
     "name": "stdout",
     "output_type": "stream",
     "text": [
      "+------------+----+-----------+------------------+-------+\n",
      "|Country name|year|Life Ladder|log GDP per capita|Ranking|\n",
      "+------------+----+-----------+------------------+-------+\n",
      "|     Ireland|2020|      7.035|            11.323|     13|\n",
      "+------------+----+-----------+------------------+-------+\n",
      "only showing top 1 row\n",
      "\n"
     ]
    }
   ],
   "source": [
    "# Creo una columna con el Ranking\n",
    "df20 = data.select(\"Country name\",\"year\",\"Life Ladder\", \"log GDP per capita\").withColumn(\"Ranking\", dense_rank().over(windowSpec))\n",
    "\n",
    "# Hago un filtro del año \n",
    "df2020 = df20.filter(df20.year == \"2020\")\n",
    "\n",
    "#Muestro el resultado \n",
    "df2020.sort(desc(\"log GDP per capita\")).show(1)"
   ]
  },
  {
   "cell_type": "code",
   "execution_count": 38,
   "id": "784cbd4e",
   "metadata": {},
   "outputs": [],
   "source": [
    "# 5. ¿En que porcentaje a variado a nivel mundial el GDP promedio del 2020 respecto al 2021? ¿Aumentó o disminuyó?"
   ]
  },
  {
   "cell_type": "code",
   "execution_count": 39,
   "id": "81617d6f",
   "metadata": {},
   "outputs": [],
   "source": [
    "# calculo el promedio del 2020\n",
    "dfAvgGDP2020 = data.filter(col(\"year\") == 2020).agg(\n",
    "    avg(col(\"Log GDP per capita\"))\n",
    ").withColumnRenamed(\"avg(Log GDP per capita)\", \"Avg GDP 2020\")\n",
    "\n",
    "# calculo el promedio del 2021\n",
    "dfAvgGDP2021 = data21.agg(avg(col(\"logged GDP per capita\"))\n",
    ").withColumnRenamed(\"avg(logged GDP per capita)\", \"Avg GDP 2021\")"
   ]
  },
  {
   "cell_type": "code",
   "execution_count": 40,
   "id": "128096ec",
   "metadata": {},
   "outputs": [
    {
     "name": "stdout",
     "output_type": "stream",
     "text": [
      "+-----------------+-----------------+--------------------+\n",
      "|     Avg GDP 2020|     Avg GDP 2021|Cambio de porcentaje|\n",
      "+-----------------+-----------------+--------------------+\n",
      "|9.751329545454546|9.432208053691273| -3.2725946782511013|\n",
      "+-----------------+-----------------+--------------------+\n",
      "\n"
     ]
    }
   ],
   "source": [
    "# Uno los dos DataFrames \n",
    "dfUnion = dfAvgGDP2020.crossJoin(dfAvgGDP2021)\n",
    "\n",
    "# Calculo el porcentaje de cambio\n",
    "dfPorcentaje = dfUnion.withColumn(\n",
    "    \"Cambio de porcentaje\",\n",
    "    ((col(\"Avg GDP 2021\") - col(\"Avg GDP 2020\")) / col(\"Avg GDP 2020\")) * 100)\n",
    "\n",
    "# Muestro el resultado\n",
    "dfPorcentaje.show()"
   ]
  },
  {
   "cell_type": "code",
   "execution_count": 41,
   "id": "bfb15d64",
   "metadata": {},
   "outputs": [],
   "source": [
    "# COMO RESULTADO VEMOS QUE HA DISMINUIDO EN EL 2021 EL GDP MUNDIAL PROMEDIO "
   ]
  },
  {
   "cell_type": "code",
   "execution_count": 42,
   "id": "663d12e3",
   "metadata": {},
   "outputs": [],
   "source": [
    "# 6. ¿Cuál es el país con mayor expectativa de vide (“Healthy life expectancy at birth”)? Y ¿Cuánto tenia en ese indicador en el 2019"
   ]
  },
  {
   "cell_type": "code",
   "execution_count": 43,
   "id": "03ac22b6",
   "metadata": {},
   "outputs": [
    {
     "name": "stdout",
     "output_type": "stream",
     "text": [
      "+------------+---------------+\n",
      "|Country name|Expectancy 2021|\n",
      "+------------+---------------+\n",
      "|   Singapore|         76.953|\n",
      "+------------+---------------+\n",
      "\n"
     ]
    }
   ],
   "source": [
    "# Muestro el maximo valor de una columna y la renombro\n",
    "max_hle = data21.agg(max(col(\"Healthy life expectancy\")).alias(\"Max_Healthy_Life_Expectancy_2021\"))\n",
    "\n",
    "# Muestra el país con la mayor expectativa de vida saludable\n",
    "resultado = data21.join(max_hle, max_hle[\"Max_Healthy_Life_Expectancy_2021\"] == data21[\"Healthy life expectancy\"], \"inner\")\n",
    "\n",
    "# Creo la variable y le cambio el nombre a la columna\n",
    "hle21 = resultado.select(col(\"Country name\"), col(\"Max_Healthy_Life_Expectancy_2021\").alias(\"Expectancy 2021\"))\n",
    "\n",
    "# Muestro el resultado\n",
    "hle21.show()"
   ]
  },
  {
   "cell_type": "code",
   "execution_count": 44,
   "id": "5fc8f37c",
   "metadata": {},
   "outputs": [
    {
     "name": "stdout",
     "output_type": "stream",
     "text": [
      "+------------+---------------+\n",
      "|Country name|Expectancy 2019|\n",
      "+------------+---------------+\n",
      "|   Singapore|           77.1|\n",
      "+------------+---------------+\n",
      "\n"
     ]
    }
   ],
   "source": [
    "# Filtro el DataFrame \n",
    "hleb = data.filter((col(\"Country name\") == lit(\"Singapore\")) & (col(\"year\") == lit(\"2019\")))\n",
    "\n",
    "# Selecciono las columnas deseadas\n",
    "hle19 = hleb.select(col(\"Country name\"), col(\"Healthy life expectancy at birth\").alias(\"Expectancy 2019\"))\n",
    "\n",
    "# Muestro el resultado\n",
    "hle19.show()"
   ]
  },
  {
   "cell_type": "code",
   "execution_count": 45,
   "id": "ea70c851",
   "metadata": {},
   "outputs": [
    {
     "name": "stdout",
     "output_type": "stream",
     "text": [
      "+------------+---------------+---------------+\n",
      "|Country name|Expectancy 2021|Expectancy 2019|\n",
      "+------------+---------------+---------------+\n",
      "|   Singapore|         76.953|           77.1|\n",
      "+------------+---------------+---------------+\n",
      "\n"
     ]
    }
   ],
   "source": [
    "# Combino los resultados de los DataFrames anteriores\n",
    "resultado = hle21.join(hle19, \"Country name\", \"inner\")\n",
    "\n",
    "# Muestro el resultado final\n",
    "resultado.show()"
   ]
  },
  {
   "cell_type": "code",
   "execution_count": null,
   "id": "9012aae2",
   "metadata": {},
   "outputs": [],
   "source": []
  }
 ],
 "metadata": {
  "kernelspec": {
   "display_name": "Python 3 (ipykernel)",
   "language": "python",
   "name": "python3"
  },
  "language_info": {
   "codemirror_mode": {
    "name": "ipython",
    "version": 3
   },
   "file_extension": ".py",
   "mimetype": "text/x-python",
   "name": "python",
   "nbconvert_exporter": "python",
   "pygments_lexer": "ipython3",
   "version": "3.11.3"
  }
 },
 "nbformat": 4,
 "nbformat_minor": 5
}
